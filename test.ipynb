{
 "cells": [
  {
   "cell_type": "code",
   "execution_count": null,
   "metadata": {},
   "outputs": [],
   "source": [
    "#ex1"
   ]
  },
  {
   "cell_type": "code",
   "execution_count": 53,
   "metadata": {},
   "outputs": [],
   "source": [
    "def fishBuzz():\n",
    "    for i in range(1,101,1):\n",
    "        if i%3 ==0 and i%5 ==0:\n",
    "            print('fizzbuzz',end =' ')\n",
    "        elif i%3 ==0:\n",
    "            print('fizz',end =' ')\n",
    "        elif i%5 ==0:\n",
    "            print('buzz',end =' ')\n",
    "        else:\n",
    "            print(i,end =' ')\n",
    "               "
   ]
  },
  {
   "cell_type": "code",
   "execution_count": 54,
   "metadata": {},
   "outputs": [
    {
     "name": "stdout",
     "output_type": "stream",
     "text": [
      "1 2 fizz 4 buzz fizz 7 8 fizz buzz 11 fizz 13 14 fizzbuzz 16 17 fizz 19 buzz fizz 22 23 fizz buzz 26 fizz 28 29 fizzbuzz 31 32 fizz 34 buzz fizz 37 38 fizz buzz 41 fizz 43 44 fizzbuzz 46 47 fizz 49 buzz fizz 52 53 fizz buzz 56 fizz 58 59 fizzbuzz 61 62 fizz 64 buzz fizz 67 68 fizz buzz 71 fizz 73 74 fizzbuzz 76 77 fizz 79 buzz fizz 82 83 fizz buzz 86 fizz 88 89 fizzbuzz 91 92 fizz 94 buzz fizz 97 98 fizz buzz "
     ]
    }
   ],
   "source": [
    "fishBuzz()"
   ]
  },
  {
   "cell_type": "code",
   "execution_count": null,
   "metadata": {},
   "outputs": [],
   "source": [
    "#ex2"
   ]
  },
  {
   "cell_type": "code",
   "execution_count": 10,
   "metadata": {},
   "outputs": [],
   "source": [
    "def leap(x):\n",
    "    if x %400 ==0:\n",
    "        print(x, '-> True')\n",
    "    elif x%100 !=0 and x%4 ==0:\n",
    "        print(x,'-> True')\n",
    "    else:\n",
    "        print(x,'-> False')"
   ]
  },
  {
   "cell_type": "code",
   "execution_count": 11,
   "metadata": {},
   "outputs": [
    {
     "name": "stdout",
     "output_type": "stream",
     "text": [
      "1500 -> False\n"
     ]
    }
   ],
   "source": [
    "leap(1500)"
   ]
  },
  {
   "cell_type": "code",
   "execution_count": 12,
   "metadata": {},
   "outputs": [],
   "source": [
    "#ex3"
   ]
  },
  {
   "cell_type": "code",
   "execution_count": 13,
   "metadata": {},
   "outputs": [],
   "source": [
    "#ex3.1"
   ]
  },
  {
   "cell_type": "code",
   "execution_count": 14,
   "metadata": {},
   "outputs": [],
   "source": [
    "def star(a):\n",
    "    for i in range(a):\n",
    "        print('*'*(i+1))"
   ]
  },
  {
   "cell_type": "code",
   "execution_count": 15,
   "metadata": {},
   "outputs": [
    {
     "name": "stdout",
     "output_type": "stream",
     "text": [
      "*\n",
      "**\n",
      "***\n"
     ]
    }
   ],
   "source": [
    "star(3)"
   ]
  },
  {
   "cell_type": "code",
   "execution_count": 16,
   "metadata": {},
   "outputs": [
    {
     "name": "stdout",
     "output_type": "stream",
     "text": [
      "*\n",
      "**\n",
      "***\n",
      "****\n",
      "*****\n",
      "******\n"
     ]
    }
   ],
   "source": [
    "star(6)"
   ]
  },
  {
   "cell_type": "code",
   "execution_count": null,
   "metadata": {},
   "outputs": [],
   "source": [
    "#ex3.2"
   ]
  },
  {
   "cell_type": "code",
   "execution_count": 23,
   "metadata": {},
   "outputs": [],
   "source": [
    "def star2(b):\n",
    "    for i in range(b):\n",
    "        print(' '*(b-i-1),'*'*(i+1))"
   ]
  },
  {
   "cell_type": "code",
   "execution_count": 26,
   "metadata": {},
   "outputs": [
    {
     "name": "stdout",
     "output_type": "stream",
     "text": [
      "  *\n",
      " **\n"
     ]
    }
   ],
   "source": [
    "star2(2)"
   ]
  },
  {
   "cell_type": "code",
   "execution_count": 27,
   "metadata": {},
   "outputs": [],
   "source": [
    "#ex3.3"
   ]
  },
  {
   "cell_type": "code",
   "execution_count": 103,
   "metadata": {},
   "outputs": [],
   "source": [
    "def star3(c):\n",
    "    print(' '*(c-1),end ='')\n",
    "    print('*')\n",
    "    for i in range(c-1):\n",
    "        print(' '*(c-i-2), end='')\n",
    "        print('*', end='')\n",
    "        print(' '*(i*2+1), end='')\n",
    "        print('*')"
   ]
  },
  {
   "cell_type": "code",
   "execution_count": 104,
   "metadata": {},
   "outputs": [
    {
     "name": "stdout",
     "output_type": "stream",
     "text": [
      "  *\n",
      " * *\n",
      "*   *\n"
     ]
    }
   ],
   "source": [
    "star3(3)"
   ]
  },
  {
   "cell_type": "code",
   "execution_count": 105,
   "metadata": {},
   "outputs": [
    {
     "name": "stdout",
     "output_type": "stream",
     "text": [
      "    *\n",
      "   * *\n",
      "  *   *\n",
      " *     *\n",
      "*       *\n"
     ]
    }
   ],
   "source": [
    "star3(5)"
   ]
  },
  {
   "cell_type": "code",
   "execution_count": 59,
   "metadata": {},
   "outputs": [],
   "source": [
    "#3.4"
   ]
  },
  {
   "cell_type": "code",
   "execution_count": 79,
   "metadata": {},
   "outputs": [],
   "source": [
    "def star4(d):\n",
    "    for i in range(d):\n",
    "        if i < d//2:\n",
    "            print(' ' * i, end='')\n",
    "            print('*', end='')\n",
    "            print(' ' * (d - i * 2 - 2), end='')\n",
    "            print('*')\n",
    "        elif i == d//2 and d % 2 != 0:\n",
    "            print(' ' * i, end='')\n",
    "            print('*')\n",
    "        else:\n",
    "            print(' ' * (d - i - 1), end='')\n",
    "            print('*', end='')\n",
    "            print(' ' * (i * 2 - d), end='')\n",
    "            print('*')"
   ]
  },
  {
   "cell_type": "code",
   "execution_count": 80,
   "metadata": {},
   "outputs": [
    {
     "name": "stdout",
     "output_type": "stream",
     "text": [
      "*\n"
     ]
    }
   ],
   "source": [
    "star4(1)"
   ]
  },
  {
   "cell_type": "code",
   "execution_count": 81,
   "metadata": {},
   "outputs": [
    {
     "name": "stdout",
     "output_type": "stream",
     "text": [
      "*   *\n",
      " * *\n",
      "  *\n",
      " * *\n",
      "*   *\n"
     ]
    }
   ],
   "source": [
    "star4(5)"
   ]
  },
  {
   "cell_type": "code",
   "execution_count": 82,
   "metadata": {},
   "outputs": [],
   "source": [
    "#3.5"
   ]
  },
  {
   "cell_type": "code",
   "execution_count": 91,
   "metadata": {},
   "outputs": [],
   "source": [
    "def star5(e):\n",
    "    for i in range(e):\n",
    "        if i < e/2:\n",
    "            print(' ' * (e // 2 - i), end='')\n",
    "            print('*' * (i * 2 + 1))\n",
    "        else:\n",
    "            print(' ' * (e // 2 - e + i + 1), end='')\n",
    "            print('*' * ((e - i - 1) * 2 + 1))\n"
   ]
  },
  {
   "cell_type": "code",
   "execution_count": 92,
   "metadata": {},
   "outputs": [
    {
     "name": "stdout",
     "output_type": "stream",
     "text": [
      "*\n"
     ]
    }
   ],
   "source": [
    "star5(1)"
   ]
  },
  {
   "cell_type": "code",
   "execution_count": 93,
   "metadata": {},
   "outputs": [
    {
     "name": "stdout",
     "output_type": "stream",
     "text": [
      " *\n",
      " *\n"
     ]
    }
   ],
   "source": [
    "star5(2)"
   ]
  },
  {
   "cell_type": "code",
   "execution_count": 94,
   "metadata": {},
   "outputs": [
    {
     "name": "stdout",
     "output_type": "stream",
     "text": [
      " *\n",
      "***\n",
      " *\n"
     ]
    }
   ],
   "source": [
    "star5(3)"
   ]
  },
  {
   "cell_type": "code",
   "execution_count": null,
   "metadata": {},
   "outputs": [],
   "source": [
    "ex3.6"
   ]
  },
  {
   "cell_type": "code",
   "execution_count": 160,
   "metadata": {},
   "outputs": [],
   "source": [
    "def abcde(f):\n",
    "    x = f*2 -1 \n",
    "    for i in range(x):\n",
    "        if i < x/2:\n",
    "            print('A'*(f-i-1),end='')\n",
    "            print('+',end='')\n",
    "            print('E'*(i*2-1),end='')\n",
    "            if i >0:\n",
    "                print('+',end='')\n",
    "            print('B'*(f-i-1))\n",
    "        else:\n",
    "            print('C'*(i-x+f),end='')\n",
    "            print('+',end ='')\n",
    "            print('E'*(x*2 - i*2 -3),end='')\n",
    "            if i < x-1:\n",
    "                print('+',end = '')\n",
    "            print('D'*(i-x+f))"
   ]
  },
  {
   "cell_type": "code",
   "execution_count": 161,
   "metadata": {},
   "outputs": [
    {
     "name": "stdout",
     "output_type": "stream",
     "text": [
      "AAAA+BBBB\n",
      "AAA+E+BBB\n",
      "AA+EEE+BB\n",
      "A+EEEEE+B\n",
      "+EEEEEEE+\n",
      "C+EEEEE+D\n",
      "CC+EEE+DD\n",
      "CCC+E+DDD\n",
      "CCCC+DDDD\n"
     ]
    }
   ],
   "source": [
    "abcde(5)"
   ]
  },
  {
   "cell_type": "code",
   "execution_count": 162,
   "metadata": {},
   "outputs": [
    {
     "name": "stdout",
     "output_type": "stream",
     "text": [
      "AAAAAA+BBBBBB\n",
      "AAAAA+E+BBBBB\n",
      "AAAA+EEE+BBBB\n",
      "AAA+EEEEE+BBB\n",
      "AA+EEEEEEE+BB\n",
      "A+EEEEEEEEE+B\n",
      "+EEEEEEEEEEE+\n",
      "C+EEEEEEEEE+D\n",
      "CC+EEEEEEE+DD\n",
      "CCC+EEEEE+DDD\n",
      "CCCC+EEE+DDDD\n",
      "CCCCC+E+DDDDD\n",
      "CCCCCC+DDDDDD\n"
     ]
    }
   ],
   "source": [
    "abcde(7)"
   ]
  },
  {
   "cell_type": "code",
   "execution_count": 163,
   "metadata": {},
   "outputs": [],
   "source": [
    "#ex4"
   ]
  },
  {
   "cell_type": "code",
   "execution_count": 164,
   "metadata": {},
   "outputs": [
    {
     "data": {
      "text/plain": [
       "'finally ทำงานต่างจาก else เมื่อเกิดเงื่อนไขของการทำงานนั้นๆ \\nโดย finally จะทำงานตลอดๆไม่ว่าจะเข้าเงื่อนไขหรือไม่ แต่ else จะทำงานก็ต่อเมื่อเงื่อนไขนั้นๆไม่เป็นไปตามที่เรากำหนดไว้'"
      ]
     },
     "execution_count": 164,
     "metadata": {},
     "output_type": "execute_result"
    }
   ],
   "source": [
    "'''finally ทำงานต่างจาก else เมื่อเกิดเงื่อนไขของการทำงานนั้นๆ \n",
    "โดย finally จะทำงานตลอดๆไม่ว่าจะเข้าเงื่อนไขหรือไม่ แต่ else จะทำงานก็ต่อเมื่อเงื่อนไขนั้นๆไม่เป็นไปตามที่เรากำหนดไว้'''"
   ]
  },
  {
   "cell_type": "code",
   "execution_count": 165,
   "metadata": {},
   "outputs": [
    {
     "data": {
      "text/plain": [
       "'ยกตัวอย่างเช่น\\nให้เรารับค่ามา 1 ค่า\\nif ค่าที่เรารับมา == ค่าที่เราตั้งไว้\\nถ้าเท่ากัน ก็จะทำงานต่อในเงื่อนไข\\nแต่ถ้าไม่เท่ากันเราใช้ else เพื่อที่จะทำงานในอีกเงื่อนไขหนึ่ง\\nแต่ finally คือทะทำงานในเงื่อนไขของ finally โดยไม่สนใจว่าค่าที่รับมาจะเท่ากับค่าที่เราตั้งไว้หรือไม่'"
      ]
     },
     "execution_count": 165,
     "metadata": {},
     "output_type": "execute_result"
    }
   ],
   "source": [
    "'''ยกตัวอย่างเช่น\n",
    "ให้เรารับค่ามา 1 ค่า\n",
    "if ค่าที่เรารับมา == ค่าที่เราตั้งไว้\n",
    "ถ้าเท่ากัน ก็จะทำงานต่อในเงื่อนไข\n",
    "แต่ถ้าไม่เท่ากันเราใช้ else เพื่อที่จะทำงานในอีกเงื่อนไขหนึ่ง\n",
    "แต่ finally คือทะทำงานในเงื่อนไขของ finally โดยไม่สนใจว่าค่าที่รับมาจะเท่ากับค่าที่เราตั้งไว้หรือไม่'''"
   ]
  },
  {
   "cell_type": "code",
   "execution_count": 166,
   "metadata": {},
   "outputs": [],
   "source": [
    "#ex-med"
   ]
  },
  {
   "cell_type": "code",
   "execution_count": 167,
   "metadata": {},
   "outputs": [],
   "source": [
    "#ex1"
   ]
  },
  {
   "cell_type": "code",
   "execution_count": 266,
   "metadata": {},
   "outputs": [],
   "source": [
    "def prime1(x):\n",
    "    for i in range(x+1):\n",
    "        if i>1:\n",
    "            a = False\n",
    "            for j in range(2,i):\n",
    "                if i%j ==0:\n",
    "                    a = True\n",
    "            if not a:\n",
    "                print(i, end = ' ')"
   ]
  },
  {
   "cell_type": "code",
   "execution_count": 268,
   "metadata": {},
   "outputs": [
    {
     "name": "stdout",
     "output_type": "stream",
     "text": [
      "2 3 5 7 11 13 17 19 23 29 31 37 41 43 47 "
     ]
    }
   ],
   "source": [
    "prime1(50)"
   ]
  },
  {
   "cell_type": "code",
   "execution_count": null,
   "metadata": {},
   "outputs": [],
   "source": []
  }
 ],
 "metadata": {
  "kernelspec": {
   "display_name": "Python 3",
   "language": "python",
   "name": "python3"
  },
  "language_info": {
   "codemirror_mode": {
    "name": "ipython",
    "version": 3
   },
   "file_extension": ".py",
   "mimetype": "text/x-python",
   "name": "python",
   "nbconvert_exporter": "python",
   "pygments_lexer": "ipython3",
   "version": "3.8.5"
  }
 },
 "nbformat": 4,
 "nbformat_minor": 5
}
